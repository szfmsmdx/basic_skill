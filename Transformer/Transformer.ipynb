{
 "cells": [
  {
   "cell_type": "code",
   "execution_count": 1,
   "metadata": {},
   "outputs": [],
   "source": [
    "%load_ext autoreload\n",
    "%autoreload 2"
   ]
  },
  {
   "cell_type": "code",
   "execution_count": 2,
   "metadata": {},
   "outputs": [],
   "source": [
    "import torch\n",
    "from torch import nn \n",
    "import torch.nn.functional as F\n",
    "import math"
   ]
  },
  {
   "cell_type": "markdown",
   "metadata": {},
   "source": [
    "# Embedding"
   ]
  },
  {
   "cell_type": "markdown",
   "metadata": {},
   "source": [
    "## Token Embedding"
   ]
  },
  {
   "cell_type": "code",
   "execution_count": 225,
   "metadata": {},
   "outputs": [],
   "source": [
    "class TokenEmbedding(nn.Embedding):\n",
    "    def __init__(self, vocab_len, d_model):\n",
    "        # vocab_len 是有多少个词，d_model 是词嵌入的维度\n",
    "        super(TokenEmbedding, self).__init__(vocab_len, d_model, padding_idx=1)"
   ]
  },
  {
   "cell_type": "markdown",
   "metadata": {},
   "source": [
    "## Position Embedding\n",
    "![title](image/positional_encoding.jpg)"
   ]
  },
  {
   "cell_type": "code",
   "execution_count": 226,
   "metadata": {},
   "outputs": [],
   "source": [
    "class PositionEmbedding(nn.Module):\n",
    "    def __init__(self, d_model, max_len=10000):\n",
    "        # max_len 是词的最大长度\n",
    "        super(PositionEmbedding, self).__init__()\n",
    "        self.encoding = torch.zeros(max_len, d_model)\n",
    "        self.encoding.requires_grad = False  # 不进行梯度更新\n",
    "\n",
    "        pos = torch.arange(0, max_len).unsqueeze_(1).float()\n",
    "        _2i = torch.arange(0, d_model, 2).float()   # 上标上的2i\n",
    "\n",
    "        self.encoding[:, 0::2] = torch.sin(pos / 10000 ** (_2i / d_model))\n",
    "        self.encoding[:, 1::2] = torch.cos(pos / 10000 ** (_2i / d_model))\n",
    "\n",
    "    def forward(self, x):\n",
    "        seq_len = x.shape[1]\n",
    "        return self.encoding[:seq_len, :]"
   ]
  },
  {
   "cell_type": "markdown",
   "metadata": {},
   "source": [
    "## Total Embedding"
   ]
  },
  {
   "cell_type": "code",
   "execution_count": 227,
   "metadata": {},
   "outputs": [],
   "source": [
    "# 整合一下\n",
    "class TransformerEmbedding(nn.Module):\n",
    "    def __init__(self, vocab_size, d_model, max_len, drop_prob):\n",
    "        super(TransformerEmbedding, self).__init__()\n",
    "        self.tok_emb = TokenEmbedding(vocab_size, d_model)\n",
    "        self.pos_emb = PositionEmbedding(d_model, max_len)\n",
    "        self.dropout = nn.Dropout(p = drop_prob)\n",
    "    def forward(self, x):\n",
    "        tok_emb = self.tok_emb(x)\n",
    "        pos_emb = self.pos_emb(x)\n",
    "        # print(\"token shape:\", tok_emb.shape)\n",
    "        # print(\"pos shape:\", pos_emb.shape)\n",
    "        return self.dropout(tok_emb + pos_emb)"
   ]
  },
  {
   "cell_type": "markdown",
   "metadata": {},
   "source": [
    "# Layer Norm\n",
    "![layer](image/layer_norm.jpg)"
   ]
  },
  {
   "cell_type": "code",
   "execution_count": 228,
   "metadata": {},
   "outputs": [],
   "source": [
    "class LayerNorm(nn.Module):\n",
    "    def __init__(self, d_model, eps=1e-10):\n",
    "        super(LayerNorm, self).__init__()\n",
    "        self.d_model = d_model\n",
    "        self.eps = eps\n",
    "        self.gamma = nn.Parameter(torch.ones(self.d_model)) # nn.Parameter 让参数可学习\n",
    "        self.beta = nn.Parameter(torch.zeros(self.d_model))\n",
    "\n",
    "    def forward(self, x):\n",
    "        mean = x.mean(-1, keepdim=True)\n",
    "        var = x.var(-1, keepdim=True)\n",
    "        norm = (x - mean) / torch.sqrt(var + self.eps)\n",
    "        out = self.gamma * norm + self.beta\n",
    "        return out"
   ]
  },
  {
   "cell_type": "markdown",
   "metadata": {},
   "source": [
    "# FFN\n",
    "![layer](image/positionwise_feed_forward.jpg)\n"
   ]
  },
  {
   "cell_type": "code",
   "execution_count": 229,
   "metadata": {},
   "outputs": [],
   "source": [
    "class FeedForward(nn.Module):\n",
    "    def __init__(self, d_model, d_ffn, drop_prob=0.1):\n",
    "        super(FeedForward, self).__init__()\n",
    "        self.fc1 = nn.Linear(d_model, d_ffn)\n",
    "        self.fc2 = nn.Linear(d_ffn, d_model)\n",
    "        self.dropout = nn.Dropout(drop_prob)\n",
    "\n",
    "    def forward(self, x):\n",
    "        x = F.relu(self.fc1(x))\n",
    "        x = self.dropout(x) # dropout 在前是为了减少神经元的连接，不然做完fc2连接完了再dropout就没有意义了\n",
    "        x = self.fc2(x)\n",
    "        return x"
   ]
  },
  {
   "cell_type": "markdown",
   "metadata": {},
   "source": [
    "# Multihead Attention"
   ]
  },
  {
   "cell_type": "code",
   "execution_count": 230,
   "metadata": {},
   "outputs": [],
   "source": [
    "class MultiheadAttention(nn.Module):\n",
    "    def __init__(self, d_model, n_head):\n",
    "        super(MultiheadAttention, self).__init__()\n",
    "        \n",
    "        assert d_model % n_head == 0, \"d_model must be divisible by n_head\"\n",
    "        \n",
    "        self.n_head = n_head\n",
    "        self.d_model = d_model\n",
    "        self.n_d = d_model // n_head\n",
    "\n",
    "        self.w_q = nn.Linear(d_model, d_model)\n",
    "        self.w_k = nn.Linear(d_model, d_model)\n",
    "        self.w_v = nn.Linear(d_model, d_model)\n",
    "        self.w_combine = nn.Linear(d_model, d_model)\n",
    "        self.softmax = nn.Softmax(dim=-1)\n",
    "\n",
    "    def forward(self, q, k, v, mask=None):\n",
    "        batch_size, token_size, d_model = q.shape\n",
    "        \n",
    "        # Linear projections\n",
    "        q = self.w_q(q).view(batch_size, -1, self.n_head, self.n_d)\n",
    "        k = self.w_k(k).view(batch_size, -1, self.n_head, self.n_d)\n",
    "        v = self.w_v(v).view(batch_size, -1, self.n_head, self.n_d)\n",
    "        # shape is (batch_size, token_size, d_model)\n",
    "        # print(\"q shape\", q.shape)\n",
    "        \n",
    "        # Transpose for attention dot product\n",
    "        q = q.transpose(1, 2)  # (batch_size, n_head, seq_len, n_d)\n",
    "        k = k.transpose(1, 2)  # (batch_size, n_head, seq_len, n_d)\n",
    "        v = v.transpose(1, 2)  # (batch_size, n_head, seq_len, n_d)\n",
    "        # (batch_size, n_head, token_size, n_d)\n",
    "        # print(\"q shape\", q.shape)\n",
    "\n",
    "        score = q @ k.permute(0, 1, 3, 2) / math.sqrt(self.n_d)\n",
    "        # (batch_size, n_head, token_size, token_size)\n",
    "        # print(\"score shape\", score.shape)\n",
    "        if mask is not None:\n",
    "            # mask = torch.tril(torch.ones(token_size, token_size, dtype=bool))\n",
    "            score = score.masked_fill(mask == 0, float('-inf'))\n",
    "        print(\"after mask score shape\", score.shape, \"v shape\", v.shape)\n",
    "        score = self.softmax(score) @ v\n",
    "        # (batch_size, n_head, token_size, n_d)\n",
    "        # print(\"after softmax score shape\", score.shape)\n",
    "        score = score.permute(0, 2, 1, 3).contiguous().view(batch_size, token_size, d_model)\n",
    "        out = self.w_combine(score)\n",
    "        return out"
   ]
  },
  {
   "cell_type": "code",
   "execution_count": 231,
   "metadata": {},
   "outputs": [
    {
     "name": "stdout",
     "output_type": "stream",
     "text": [
      "after mask score shape torch.Size([2, 4, 3, 3]) v shape torch.Size([2, 4, 3, 5])\n",
      "torch.Size([2, 3, 20])\n"
     ]
    }
   ],
   "source": [
    "# test multiheadattention\n",
    "x = torch.randn((2, 3, 20))\n",
    "\n",
    "MH = MultiheadAttention(20, 4)\n",
    "y = MH(x, x, x)\n",
    "print(y.shape)"
   ]
  },
  {
   "cell_type": "markdown",
   "metadata": {},
   "source": [
    "# Encoder Layer\n",
    "![enc-dec](image/enc_dec.jpg)"
   ]
  },
  {
   "cell_type": "code",
   "execution_count": 232,
   "metadata": {},
   "outputs": [],
   "source": [
    "class EncodingLayer(nn.Module):\n",
    "    def __init__(self, d_model, ffn_hidden, n_head, drop_prob=0.1):\n",
    "        super(EncodingLayer, self).__init__()\n",
    "        self.attention = MultiheadAttention(d_model, n_head)\n",
    "        self.norm1 = LayerNorm(d_model)\n",
    "        self.drop1 = nn.Dropout(drop_prob)\n",
    "\n",
    "        self.ffn = FeedForward(d_model, ffn_hidden, drop_prob)\n",
    "        self.norm2 = LayerNorm(d_model)\n",
    "        self.drop2 = nn.Dropout(drop_prob)\n",
    "\n",
    "    def forward(self, x, mask=None):\n",
    "        _x = x  # resnet 提前保存一下\n",
    "        x = self.attention(x, x, x, mask)\n",
    "        x = self.drop1(x)\n",
    "        x = self.norm1(x + _x)\n",
    "\n",
    "        _x = x\n",
    "        x = self.ffn(x)\n",
    "        x = self.drop2(x)\n",
    "        x = self.norm2(x + _x)\n",
    "        return x"
   ]
  },
  {
   "cell_type": "code",
   "execution_count": 233,
   "metadata": {},
   "outputs": [
    {
     "name": "stdout",
     "output_type": "stream",
     "text": [
      "after mask score shape torch.Size([2, 4, 3, 3]) v shape torch.Size([2, 4, 3, 5])\n",
      "tensor([[[-1.4251, -0.0715,  0.2319, -0.9279,  0.7561,  0.5588, -1.2054,\n",
      "           2.0926,  0.2089, -0.3476,  1.5660, -0.0668, -0.3974,  0.2857,\n",
      "           0.6410, -1.9899,  0.2132, -0.5885, -0.6619,  1.1278],\n",
      "         [ 0.7191,  0.4261, -0.2634,  0.8636, -0.3541,  0.2164, -0.9546,\n",
      "           1.1670,  0.2811, -0.3747,  0.5911, -0.6887,  0.5172,  0.6444,\n",
      "           0.0257, -3.2548,  0.2132, -0.2142, -0.9057,  1.3450],\n",
      "         [ 0.4652,  0.5323, -1.5483, -0.7145, -0.9961,  0.9341, -0.8949,\n",
      "           1.1572, -0.6694,  0.2622,  2.3892,  0.0673, -0.0305,  0.2442,\n",
      "          -1.7625,  0.1880,  0.0925, -0.0085, -0.8794,  1.1721]],\n",
      "\n",
      "        [[ 0.4705,  0.6534, -0.4684, -0.3649, -1.1773,  0.7850, -0.7311,\n",
      "           0.6769, -0.5894,  0.8563, -0.4199,  0.7542, -0.5458,  1.1924,\n",
      "           1.0694, -2.2038, -0.8464,  0.1349, -1.1128,  1.8669],\n",
      "         [-2.2884,  0.3297,  0.3089, -0.3971, -0.3399,  0.1480, -1.8170,\n",
      "           0.7703,  0.5447,  0.7027,  0.3493, -0.6476,  0.2986,  0.2154,\n",
      "           2.0093,  1.0735, -0.1821, -1.5901,  0.3544,  0.1574],\n",
      "         [ 0.3137,  1.4075, -0.9798, -0.2944, -0.5501,  0.7233, -0.1770,\n",
      "          -0.5658, -0.7781,  0.3153,  0.4372, -0.1527, -0.3078,  2.1481,\n",
      "           0.5303, -1.2907,  1.0825, -2.1653, -0.6274,  0.9312]]],\n",
      "       grad_fn=<AddBackward0>)\n"
     ]
    }
   ],
   "source": [
    "x = torch.randn((2, 3, 20))\n",
    "EL = EncodingLayer(20, 10, 4, 0.2)\n",
    "y = EL(x)\n",
    "print(y)"
   ]
  },
  {
   "cell_type": "markdown",
   "metadata": {},
   "source": [
    "# Decoder Layer"
   ]
  },
  {
   "cell_type": "code",
   "execution_count": 234,
   "metadata": {},
   "outputs": [],
   "source": [
    "class DecoderLayer(nn.Module):\n",
    "    def __init__(self, d_model, n_head, ffn_hidden, drop_prob=0.1) -> None:\n",
    "        super(DecoderLayer, self).__init__()\n",
    "        self.attention = MultiheadAttention(d_model, n_head)\n",
    "        self.norm1 = LayerNorm(d_model)\n",
    "        self.drop1 = nn.Dropout(drop_prob)\n",
    "\n",
    "        self.cross_attention = MultiheadAttention(d_model, n_head)\n",
    "        self.norm2 = LayerNorm(d_model)\n",
    "        self.drop2 = nn.Dropout(drop_prob)\n",
    "\n",
    "        self.ffn = FeedForward(d_model, ffn_hidden, drop_prob)\n",
    "        self.norm3 = LayerNorm(d_model)\n",
    "        self.drop3 = nn.Dropout(drop_prob)\n",
    "    def forward(self, dec, enc, token_mask, dec_mask):\n",
    "        _dec = dec\n",
    "        dec = self.attention(dec, dec, dec, token_mask)\n",
    "        dec = self.drop1(dec)\n",
    "        dec = self.norm1(dec + _dec)\n",
    "\n",
    "        if enc is not None:\n",
    "            _dec = dec\n",
    "            dec = self.cross_attention(dec, enc, enc, dec_mask)\n",
    "            dec = self.drop2(dec)\n",
    "            dec = self.norm2(dec + _dec)\n",
    "\n",
    "        _dec = dec\n",
    "        dec = self.ffn(dec)\n",
    "        dec = self.drop3(dec)\n",
    "        dec = self.norm3(dec + _dec)\n",
    "        return dec"
   ]
  },
  {
   "cell_type": "code",
   "execution_count": 235,
   "metadata": {},
   "outputs": [
    {
     "name": "stdout",
     "output_type": "stream",
     "text": [
      "after mask score shape torch.Size([2, 4, 3, 3]) v shape torch.Size([2, 4, 3, 5])\n",
      "after mask score shape torch.Size([2, 4, 3, 3]) v shape torch.Size([2, 4, 3, 5])\n",
      "tensor([[[ 0.0332, -0.1682,  0.0918, -2.6525,  0.7405, -0.6335,  0.5861,\n",
      "          -0.0096, -1.0309,  0.6493, -0.1162,  1.0375,  1.1636,  0.4502,\n",
      "          -1.9318,  0.7453,  0.3558,  1.1932, -0.7706,  0.2667],\n",
      "         [ 0.3320, -0.6758, -0.0838, -1.3168,  2.1527,  0.1473, -1.2233,\n",
      "           0.2695, -2.0551,  0.5421,  1.2470, -1.2797,  0.2074,  0.8121,\n",
      "          -0.3774, -0.0571,  1.3036, -0.3322,  0.0838,  0.3036],\n",
      "         [-0.9416,  0.2964, -0.7549,  0.5917, -0.0484, -0.4286,  0.1047,\n",
      "           0.0933,  0.1726,  0.9945, -0.8170,  1.8015, -0.0493, -1.0429,\n",
      "          -2.0494,  1.7465, -0.9998, -0.7180,  0.9404,  1.1083]],\n",
      "\n",
      "        [[ 0.2906,  0.8368, -0.3392,  1.0948,  1.6970, -1.2326,  0.5624,\n",
      "          -1.5848, -0.7892, -0.7397,  0.1584, -1.1686,  1.5829, -0.5894,\n",
      "           0.4029,  1.1360, -0.8587,  0.5866,  0.2448, -1.2910],\n",
      "         [ 0.1771, -0.5588, -0.8510,  0.2678,  1.6007, -0.4561,  1.3465,\n",
      "          -1.0588, -0.8590,  1.0769, -0.9600, -1.7392,  0.9235,  0.9241,\n",
      "           0.2924,  1.7641, -0.0062, -0.8800, -0.7560, -0.2480],\n",
      "         [ 0.5346,  0.2781,  0.9921,  0.9911,  0.7545,  0.7374, -1.4719,\n",
      "          -1.1744,  0.5502, -0.3804, -1.5685,  0.2612,  0.7936,  0.3582,\n",
      "           1.2446,  0.0486,  0.9718, -0.8775, -1.0851, -1.9582]]],\n",
      "       grad_fn=<AddBackward0>)\n"
     ]
    }
   ],
   "source": [
    "x = torch.randn((2, 3, 20))\n",
    "DL = DecoderLayer(20, 4, 10, 0.2)\n",
    "y = DL(x, x, None, None)\n",
    "print(y)"
   ]
  },
  {
   "cell_type": "markdown",
   "metadata": {},
   "source": [
    "# Transformer\n",
    "![total](image/The_transformer_encoder_decoder_stack.png)"
   ]
  },
  {
   "cell_type": "code",
   "execution_count": 236,
   "metadata": {},
   "outputs": [],
   "source": [
    "class Encoder(nn.Module):\n",
    "    def __init__(\n",
    "        self, \n",
    "        vocab_size,\n",
    "        d_model, \n",
    "        max_len,\n",
    "        ffn_hidden, \n",
    "        n_head, \n",
    "        drop_prob,\n",
    "        n_layers\n",
    "    ):\n",
    "        super(Encoder, self).__init__()\n",
    "\n",
    "        self.embedding = TransformerEmbedding(vocab_size, d_model, max_len, drop_prob)\n",
    "        self.layers = nn.ModuleList(\n",
    "            [\n",
    "                EncodingLayer(d_model, ffn_hidden, n_head, drop_prob)\n",
    "                for _ in range(n_layers)\n",
    "            ]\n",
    "        )\n",
    "    \n",
    "    def forward(self, x, enc_mask):\n",
    "        x = self.embedding(x)\n",
    "        print(\"encoder embedding shape\", x.shape)\n",
    "        for layer in self.layers:\n",
    "            x = layer(x, enc_mask)\n",
    "        return x"
   ]
  },
  {
   "cell_type": "code",
   "execution_count": 237,
   "metadata": {},
   "outputs": [],
   "source": [
    "class Decoder(nn.Module):\n",
    "    def __init__(\n",
    "        self,\n",
    "        vocab_size,\n",
    "        d_model,\n",
    "        max_len,\n",
    "        ffn_hidden,\n",
    "        n_head,\n",
    "        drop_prob,\n",
    "        n_layers\n",
    "    ):\n",
    "        super(Decoder, self).__init__()\n",
    "\n",
    "        self.embedding = TransformerEmbedding(\n",
    "            vocab_size, d_model, max_len, drop_prob\n",
    "        )\n",
    "\n",
    "        self.layers = nn.ModuleList(\n",
    "            [\n",
    "                DecoderLayer(d_model, n_head, ffn_hidden, drop_prob)\n",
    "                for _ in range(n_layers)\n",
    "            ]\n",
    "        )\n",
    "\n",
    "        self.fc = nn.Linear(d_model, vocab_size)\n",
    "\n",
    "    def forward(self, dec, enc, token_mask, dec_mask):\n",
    "        dec = self.embedding(dec)\n",
    "        print(\"decoder embedding shape\", dec.shape)\n",
    "        for layer in self.layers:\n",
    "            dec = layer(dec, enc, token_mask, dec_mask)\n",
    "\n",
    "        dec = self.fc(dec)\n",
    "        \n",
    "        return dec\n"
   ]
  },
  {
   "cell_type": "markdown",
   "metadata": {},
   "source": [
    "## Mask 机制"
   ]
  },
  {
   "cell_type": "code",
   "execution_count": 238,
   "metadata": {},
   "outputs": [],
   "source": [
    "class Transformer(nn.Module):\n",
    "    def __init__(\n",
    "        self, \n",
    "        src_pad_idx, \n",
    "        tgt_pad_idx,\n",
    "        enc_voc_size, \n",
    "        dec_voc_size,\n",
    "        max_len,\n",
    "        d_model,\n",
    "        n_head,\n",
    "        ffn_hidden,\n",
    "        n_layers,\n",
    "        drop_prob\n",
    "    ):\n",
    "        super(Transformer, self).__init__()\n",
    "\n",
    "        self.encoder = Encoder(\n",
    "            enc_voc_size, d_model, max_len, ffn_hidden, n_head, drop_prob, n_layers\n",
    "        )\n",
    "        self.decoder = Decoder(\n",
    "            dec_voc_size, d_model, max_len, ffn_hidden, n_head, drop_prob, n_layers\n",
    "        )\n",
    "\n",
    "        self.src_pad_idx = src_pad_idx\n",
    "        self.tgt_pad_idx = tgt_pad_idx\n",
    "\n",
    "    def pad_mask(self, q, k, pad_idx_q, pad_idx_k):\n",
    "        '''\n",
    "        attention padding mask, 用于屏蔽padding的token, 使其不参与attention计算\n",
    "        pad_idx_q: query的padding token\n",
    "        pad_idx_k: key的padding token\n",
    "        '''\n",
    "        len_q = q.shape[1]  # q shape is (batch_size, q_token_size)\n",
    "        len_k = k.shape[1]  # k shape is (batch_size, k_token_size)\n",
    "        # attention 结束的shape 是 batch_size, q_token_size, k_token_size\n",
    "        \n",
    "        q = q.ne(pad_idx_q).unsqueeze(1).unsqueeze(3)\n",
    "        q = q.repeat(1, 1, 1, len_k)\n",
    "        k = k.ne(pad_idx_k).unsqueeze(1).unsqueeze(2)\n",
    "        k = k.repeat(1, 1, len_q, 1)\n",
    "\n",
    "        mask = q & k\n",
    "        return mask\n",
    "    \n",
    "    def causal_mask(self, q, k):\n",
    "        len_q, len_k = q.shape[1], k.shape[1]\n",
    "        mask = (torch.tril(torch.ones(len_q, len_k, dtype=bool)))\n",
    "        return mask\n",
    "    \n",
    "    def forward(self, src, tgt):\n",
    "        src_mask = self.pad_mask(src, src, self.src_pad_idx, self.src_pad_idx)\n",
    "        tgt_mask_1 = self.pad_mask(tgt, tgt, self.tgt_pad_idx, self.tgt_pad_idx)\n",
    "        tgt_mask_2 = self.causal_mask(tgt, tgt)\n",
    "        tgt_mask = tgt_mask_1 * tgt_mask_2\n",
    "        src_tgt_mask = self.pad_mask(tgt, src, self.tgt_pad_idx, self.src_pad_idx)\n",
    "        # print(\"src_mask shape:\", src_mask.shape)\n",
    "        # print(\"tgt mask_1 shape:\", tgt_mask_1.shape)\n",
    "        # print(\"tgt mask_2 shape:\", tgt_mask_2.shape)\n",
    "        # print(\"tgt_mask shape:\", tgt_mask.shape)\n",
    "        # print(\"src_tgt_mask shape:\", src_tgt_mask.shape)\n",
    "        enc = self.encoder(src, src_mask)\n",
    "        ouput = self.decoder(tgt, enc, tgt_mask, src_tgt_mask)\n",
    "        return ouput"
   ]
  },
  {
   "cell_type": "code",
   "execution_count": 239,
   "metadata": {},
   "outputs": [],
   "source": [
    "enc_voc_size = 6000\n",
    "dec_voc_size = 8000\n",
    "src_pad_idx = 1\n",
    "tgt_pad_idx = 1\n",
    "tgt_sos_idx = 2\n",
    "batch_size = 32\n",
    "max_len = 1024\n",
    "d_model = 512\n",
    "n_layers = 3\n",
    "n_head = 2\n",
    "ffn_hidden = 1024\n",
    "drop_prob = 0.1\n",
    "# device = torch.device(\"cuda:0\" if torch.cuda.is_available() else \"cpu\")\n",
    "device = \"cpu\""
   ]
  },
  {
   "cell_type": "code",
   "execution_count": 240,
   "metadata": {},
   "outputs": [
    {
     "name": "stderr",
     "output_type": "stream",
     "text": [
      "C:\\Users\\szfmsmdx\\AppData\\Local\\Temp\\ipykernel_24580\\4124083026.py:15: UserWarning: nn.init.kaiming_uniform is now deprecated in favor of nn.init.kaiming_uniform_.\n",
      "  nn.init.kaiming_uniform(m.weight.data)\n"
     ]
    },
    {
     "name": "stdout",
     "output_type": "stream",
     "text": [
      "src shape torch.Size([128, 36]) tgt shape torch.Size([128, 38])\n",
      "src_mask shape: torch.Size([128, 1, 36, 36])\n",
      "tgt mask_1 shape: torch.Size([128, 1, 38, 38])\n",
      "tgt mask_2 shape: torch.Size([38, 38])\n",
      "tgt_mask shape: torch.Size([128, 1, 38, 38])\n",
      "src_tgt_mask shape: torch.Size([128, 1, 38, 36])\n",
      "encoder embedding shape torch.Size([128, 36, 512])\n",
      "after mask score shape torch.Size([128, 2, 36, 36]) v shape torch.Size([128, 2, 36, 256])\n",
      "after mask score shape torch.Size([128, 2, 36, 36]) v shape torch.Size([128, 2, 36, 256])\n",
      "after mask score shape torch.Size([128, 2, 36, 36]) v shape torch.Size([128, 2, 36, 256])\n",
      "decoder embedding shape torch.Size([128, 38, 512])\n",
      "after mask score shape torch.Size([128, 2, 38, 38]) v shape torch.Size([128, 2, 38, 256])\n",
      "after mask score shape torch.Size([128, 2, 38, 36]) v shape torch.Size([128, 2, 36, 256])\n",
      "after mask score shape torch.Size([128, 2, 38, 38]) v shape torch.Size([128, 2, 38, 256])\n",
      "after mask score shape torch.Size([128, 2, 38, 36]) v shape torch.Size([128, 2, 36, 256])\n",
      "after mask score shape torch.Size([128, 2, 38, 38]) v shape torch.Size([128, 2, 38, 256])\n",
      "after mask score shape torch.Size([128, 2, 38, 36]) v shape torch.Size([128, 2, 36, 256])\n",
      "src shape torch.Size([128, 36]) tgt shape torch.Size([128, 38])\n"
     ]
    }
   ],
   "source": [
    "model = Transformer(src_pad_idx=src_pad_idx,\n",
    "                    tgt_pad_idx=tgt_pad_idx,\n",
    "                    d_model=d_model,\n",
    "                    enc_voc_size=enc_voc_size,\n",
    "                    dec_voc_size=dec_voc_size,\n",
    "                    max_len=max_len,\n",
    "                    ffn_hidden=ffn_hidden,\n",
    "                    n_head=n_head,\n",
    "                    n_layers=n_layers,\n",
    "                    drop_prob=drop_prob,\n",
    "                    )\n",
    "\n",
    "def initialize_weights(m):\n",
    "    if hasattr(m, 'weight') and m.weight.dim() > 1:\n",
    "        nn.init.kaiming_uniform(m.weight.data)\n",
    "        \n",
    "model.apply(initialize_weights)\n",
    "src = torch.load(\"tensor_src.pt\")\n",
    "tgt = torch.load(\"tensor_tgt.pt\")\n",
    "print(\"src shape\", src.shape, \"tgt shape\", tgt.shape)\n",
    "res = model(src, tgt)\n",
    "print(\"src shape\", src.shape, \"tgt shape\", tgt.shape)"
   ]
  },
  {
   "cell_type": "markdown",
   "metadata": {},
   "source": [
    "# PyTorch API"
   ]
  },
  {
   "cell_type": "code",
   "execution_count": 8,
   "metadata": {},
   "outputs": [
    {
     "name": "stdout",
     "output_type": "stream",
     "text": [
      "torch.Size([32, 10, 512])\n"
     ]
    },
    {
     "name": "stderr",
     "output_type": "stream",
     "text": [
      "C:\\Users\\szfmsmdx\\AppData\\Local\\Temp\\ipykernel_32324\\295379298.py:12: UserWarning: nn.init.kaiming_uniform is now deprecated in favor of nn.init.kaiming_uniform_.\n",
      "  nn.init.kaiming_uniform(m.weight.data)\n"
     ]
    }
   ],
   "source": [
    "transformer = nn.Transformer(\n",
    "    d_model=d_model,\n",
    "    nhead=n_head,\n",
    "    num_encoder_layers=n_layers,\n",
    "    num_decoder_layers=n_layers,\n",
    "    dim_feedforward=ffn_hidden,\n",
    "    dropout=drop_prob\n",
    ")\n",
    "\n",
    "def initialize_weights(m):\n",
    "    if hasattr(m, 'weight') and m.weight.dim() > 1:\n",
    "        nn.init.kaiming_uniform(m.weight.data)\n",
    "transformer.apply(initialize_weights)\n",
    "\n",
    "x = torch.randn((32, 10, 512))\n",
    "y = torch.randn((32, 10, 512))\n",
    "res = transformer(x, y)\n",
    "print(res.shape)"
   ]
  }
 ],
 "metadata": {
  "kernelspec": {
   "display_name": "pytorch",
   "language": "python",
   "name": "python3"
  },
  "language_info": {
   "codemirror_mode": {
    "name": "ipython",
    "version": 3
   },
   "file_extension": ".py",
   "mimetype": "text/x-python",
   "name": "python",
   "nbconvert_exporter": "python",
   "pygments_lexer": "ipython3",
   "version": "3.11.5"
  }
 },
 "nbformat": 4,
 "nbformat_minor": 2
}
